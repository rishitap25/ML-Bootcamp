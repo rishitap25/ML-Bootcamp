{
  "cells": [
    {
      "cell_type": "markdown",
      "metadata": {
        "id": "view-in-github",
        "colab_type": "text"
      },
      "source": [
        "<a href=\"https://colab.research.google.com/github/rishitap25/ML-Bootcamp/blob/main/pneumonia_template.ipynb\" target=\"_parent\"><img src=\"https://colab.research.google.com/assets/colab-badge.svg\" alt=\"Open In Colab\"/></a>"
      ]
    },
    {
      "cell_type": "markdown",
      "metadata": {
        "id": "foT8pth--QfY"
      },
      "source": [
        "### 🔍 Objective:\n",
        "This project will **introduce you to CNNs**.\n",
        "\n",
        "### 📌 What You’ll Do:\n",
        "1. Define suitable transforms/augmentations for your `train` and `test` images.\n",
        "2. Pass these images into PyTorch `DataLoaders` for batch processing.\n",
        "3. Implement `CNN` class architecture for pneumonia image classification.\n",
        "4. Train and validate your model.\n",
        "\n",
        "💡 **PLEASE PLEASE PLEASE look things up!!! This is YOUR learning experience.**\n",
        "\n",
        "---"
      ]
    },
    {
      "cell_type": "code",
      "execution_count": 15,
      "metadata": {
        "id": "trKjIVza-Qfa"
      },
      "outputs": [],
      "source": [
        "import torch\n",
        "import kagglehub\n",
        "import torch.nn as nn\n",
        "\n",
        "path = kagglehub.dataset_download(\"paultimothymooney/chest-xray-pneumonia\")\n",
        "\n",
        "train_path = f'{path}/chest_xray/train/'\n",
        "test_path = f'{path}/chest_xray/test/'"
      ]
    },
    {
      "cell_type": "markdown",
      "metadata": {
        "id": "sCcUi9kd-Qfc"
      },
      "source": [
        "#### 📌 ***TASK 1 - DATA PREPROCESSING***\n",
        "\n",
        "Define image augmentations in the cell below using two variables:  \n",
        "\n",
        "- **`transform_train`**: Stores transforms for training images. You can include any augmentations you prefer.  \n",
        "- **`transform_test`**: Stores transforms for your test images. As a best practice, limit these transformations to only the essential ones from `transform_train`.\n",
        "\n",
        "Lastly, be sure to convert all images to [tensors](https://www.perplexity.ai/search/i-m-a-student-at-naiss-mlb-and-_EL_nBO9TS694cbTEl5M.A) via the `transforms.ToTensor()` transform. Don't know transforms? [Click here](https://pytorch.org/vision/stable/transforms.html)."
      ]
    },
    {
      "cell_type": "code",
      "execution_count": 17,
      "metadata": {
        "id": "jQXXGPKj-Qfc"
      },
      "outputs": [],
      "source": [
        "from torchvision import transforms\n",
        "transform_train = transforms.Compose([\n",
        "    transforms.Resize((224, 224)),\n",
        "    transforms.RandomHorizontalFlip(),\n",
        "    transforms.RandomRotation(20),\n",
        "    transforms.ToTensor(),\n",
        "    transforms.Normalize(mean=[0.485, 0.456, 0.406], std=[0.229, 0.224, 0.225])\n",
        "])\n",
        "\n",
        "transform_test = transforms.Compose([\n",
        "    transforms.Resize((224, 224)),\n",
        "    transforms.ToTensor(),\n",
        "    transforms.Normalize(mean=[0.485, 0.456, 0.406], std=[0.229, 0.224, 0.225])\n",
        "])\n"
      ]
    },
    {
      "cell_type": "markdown",
      "metadata": {
        "id": "JvBZSzQb-Qfc"
      },
      "source": [
        "Now, we'll pass our images and transforms into a `DataLoader`, which allows us to train our model in batches.\n",
        "Most of the code is done for you, but [click here](https://www.perplexity.ai/search/i-m-a-student-at-naiss-mlb-and-_EL_nBO9TS694cbTEl5M.A) to learn more."
      ]
    },
    {
      "cell_type": "code",
      "execution_count": 18,
      "metadata": {
        "id": "xZYhbcgA-Qfc"
      },
      "outputs": [],
      "source": [
        "from torchvision.datasets import ImageFolder\n",
        "from torch.utils.data import DataLoader\n",
        "\n",
        "num_batches = 32  # Feel free to change this\n",
        "\n",
        "train_dataset = ImageFolder(root=train_path, transform=transform_train) # Your Transformed train images\n",
        "train_loader = DataLoader(dataset=train_dataset, batch_size=num_batches, shuffle=True)\n",
        "\n",
        "test_dataset = ImageFolder(root=test_path, transform=transform_test) # Your transformed test images\n",
        "test_loader = DataLoader(dataset=test_dataset, batch_size=num_batches, shuffle=True)"
      ]
    },
    {
      "cell_type": "markdown",
      "metadata": {
        "id": "YJp8AV-E-Qfd"
      },
      "source": [
        "#### 📌 ***TASK 2 - CNN Architecture***\n",
        "\n",
        "This is where you have all the creative freedom in the world. Here are some good questions to ask yourself:\n",
        "\n",
        "- How many [channels](https://www.perplexity.ai/search/i-m-a-student-at-naiss-mlb-wha-49AG77e4Qp2e7EkARdFsTA) should go into the input layer?\n",
        "- What measures can I take to avoid [overfitting](https://www.perplexity.ai/search/i-m-a-student-at-naiss-mlb-wha-YdAbhqQzRZaEq39BEQzA6w)?\n",
        "- What matters to me? (Training Speed / Performance tradeoffs)\n",
        "- **CONVOLUTION. ACTIVATION FUNCTION. POOLING!!!** 📢📢📢\n",
        "\n",
        "Not comfortable with PyTorch? [Here](https://youtu.be/mozBidd58VQ?si=TE2_81TEQko1eDXT). Go and make me the best [CNN](https://www.datacamp.com/tutorial/introduction-to-convolutional-neural-networks-cnns) I've ever seen :)"
      ]
    },
    {
      "cell_type": "code",
      "execution_count": 19,
      "metadata": {
        "colab": {
          "base_uri": "https://localhost:8080/"
        },
        "id": "j3zGSpyz-Qfd",
        "outputId": "97f310f2-c4fd-45a6-e1ed-463b2bde5e6a"
      },
      "outputs": [
        {
          "output_type": "execute_result",
          "data": {
            "text/plain": [
              "Ellipsis"
            ]
          },
          "metadata": {},
          "execution_count": 19
        }
      ],
      "source": [
        "import torch\n",
        "import torch.nn\n",
        "\n",
        "# Remember what Pooling does to feature maps!!!\n",
        "class PneumoniaCNN(nn.Module):\n",
        "    def __init__(self):\n",
        "        super(PneumoniaCNN, self).__init__()\n",
        "\n",
        "        # Define CNN layers\n",
        "        self.conv1 = nn.Conv2d(3, 32, kernel_size=3, padding=1)  # 3 input channels (RGB), 32 output channels\n",
        "        self.conv2 = nn.Conv2d(32, 64, kernel_size=3, padding=1)\n",
        "        self.conv3 = nn.Conv2d(64, 128, kernel_size=3, padding=1)\n",
        "\n",
        "        # Pooling layer\n",
        "        self.pool = nn.MaxPool2d(2, 2)\n",
        "\n",
        "        # Fully connected layers\n",
        "        self.fc1 = nn.Linear(128 * 28 * 28, 512)\n",
        "        self.fc2 = nn.Linear(512, 1)  # Output 1 for binary classification (Normal or Pneumonia)\n",
        "\n",
        "        # Activation function\n",
        "        self.relu = nn.ReLU()\n",
        "        self.sigmoid = nn.Sigmoid()\n",
        "\n",
        "    def forward(self, x):\n",
        "        # Forward pass through the network\n",
        "        x = self.pool(self.relu(self.conv1(x)))\n",
        "        x = self.pool(self.relu(self.conv2(x)))\n",
        "        x = self.pool(self.relu(self.conv3(x)))\n",
        "\n",
        "        # Flatten the output for the fully connected layers\n",
        "        x = x.view(-1, 128 * 28 * 28)\n",
        "\n",
        "        x = self.relu(self.fc1(x))\n",
        "        x = self.sigmoid(self.fc2(x))  # Sigmoid for binary classification\n",
        "\n",
        "        return x\n",
        "..."
      ]
    },
    {
      "cell_type": "markdown",
      "metadata": {
        "id": "LnG4r6aw-Qfe"
      },
      "source": [
        "#### 📌 ***TASK 3 - DEFINE TRAIN FUNCTION***  \n",
        "\n",
        "Define `process_forward_phase` and `train` to update model weights with each new [epoch/iteration](https://www.perplexity.ai/search/i-m-a-curious-naiss-mlb-studen-7SJECNYrS1iYxUR032dp7A). Here are the steps:\n",
        "\n",
        "- **Forward pass:** Here, our batch is taken through the network to output a prediction (Normal/Pneumonia)\n",
        "- **Backward pass:** The model goes \"What's our loss? Hmmm... Not quite what I want. This means my `weights` aren't adjusted properly. Let me propagate my `loss` backward in hopes of correcting my weights.\"\n",
        "\n",
        "We use **`f1_score`** as the primary metric and also display **`accuracy`** for comparison. Most steps are outlined for you—just follow the structure provided!"
      ]
    },
    {
      "cell_type": "code",
      "execution_count": 20,
      "metadata": {
        "id": "Pz9OGUy8-Qfe"
      },
      "outputs": [],
      "source": [
        "from tqdm import tqdm # Visualize training progress\n",
        "from sklearn.metrics import f1_score, accuracy_score\n",
        "\n",
        "def process_forward_phase(model, batch, criterion):\n",
        "    \"\"\"\n",
        "    This is a helper function to abstract the \"forward\"\n",
        "    phase of the training loop. This function also returns\n",
        "    the loss, predictions, and labels seen in the batch.\n",
        "    \"\"\"\n",
        "\n",
        "    images, labels = batch\n",
        "    labels = labels.float()\n",
        "\n",
        "    outputs = model(images)\n",
        "\n",
        "    # Calculate loss\n",
        "    loss = criterion(outputs.squeeze(), labels)\n",
        "\n",
        "    # Get predictions\n",
        "    preds = (outputs.squeeze() > 0.5).float()\n",
        "    ...\n",
        "\n",
        "    return loss, preds, labels\n",
        "\n",
        "def train(model, train_loader, criterion, optimizer, epochs):\n",
        "    ... # Set model to training mode\n",
        "\n",
        "    for epoch in range(epochs): # Specify the number of iterations to train for\n",
        "        all_preds, all_labels = [], []\n",
        "\n",
        "        for batch in tqdm(train_loader, desc=f\"Epoch {epoch + 1}/{epochs}\"):\n",
        "            optimizer.zero_grad()\n",
        "            loss, preds, labels = process_forward_phase(model, batch, criterion)\n",
        "\n",
        "            ... # (backward phase, upd. weights)\n",
        "\n",
        "            loss.backward()\n",
        "            optimizer.step()\n",
        "\n",
        "            all_preds.extend(preds.numpy())\n",
        "            all_labels.extend(labels.numpy())\n",
        "\n",
        "        accuracy = accuracy_score(all_labels, all_preds)\n",
        "        f1 = f1_score(all_labels, all_preds)\n",
        "\n",
        "        print(f\"Epoch {epoch+1} - Acc={accuracy:.2f}%, F1={f1:.4f}\")"
      ]
    },
    {
      "cell_type": "markdown",
      "metadata": {
        "id": "Yx9DofPM-Qfe"
      },
      "source": [
        "After your model trains, you want to see how well it performs on **unseen data.** Meaning, if this were a live hospital NEEDING your predictions to classify patients with pneumonia, how well would it do?\n",
        "\n",
        "\n",
        "You simply have to run this cell; all the code is implemented for you (Assuming `process_forward_phase` works fine). 😊"
      ]
    },
    {
      "cell_type": "code",
      "execution_count": 21,
      "metadata": {
        "id": "luq7_sq--Qff"
      },
      "outputs": [],
      "source": [
        "def test(model, test_loader, criterion):\n",
        "    model.eval()\n",
        "    all_preds, all_labels = [], []\n",
        "\n",
        "    with torch.no_grad():\n",
        "        for batch in test_loader:\n",
        "            loss, preds, labels = process_forward_phase(model, batch, criterion)\n",
        "            all_preds.extend(preds.numpy())\n",
        "            all_labels.extend(labels.numpy())\n",
        "\n",
        "    accuracy = accuracy_score(all_labels, all_preds)\n",
        "    f1 = f1_score(all_labels, all_preds)\n",
        "\n",
        "    print(f\"Final Test Results: Acc={accuracy:.2f}%, F1={f1:.4f}\")"
      ]
    },
    {
      "cell_type": "markdown",
      "metadata": {
        "id": "Ykt3cX06-Qff"
      },
      "source": [
        "#### 📌***TASK 4 - TRAIN MODEL***\n",
        "\n",
        "We're close!!! We simply need to instantiate the `model`, define a suitable `criterion` (loss), and use an `optimizer` (thing to speed up backpropagation)."
      ]
    },
    {
      "cell_type": "code",
      "execution_count": 22,
      "metadata": {
        "colab": {
          "base_uri": "https://localhost:8080/"
        },
        "id": "0P1bdWXr-Qff",
        "outputId": "13d3d227-3e99-411e-e08e-c59c3b2ba40a"
      },
      "outputs": [
        {
          "metadata": {
            "tags": null
          },
          "name": "stderr",
          "output_type": "stream",
          "text": [
            "Epoch 1/10: 100%|██████████| 163/163 [19:37<00:00,  7.23s/it]\n"
          ]
        },
        {
          "metadata": {
            "tags": null
          },
          "name": "stdout",
          "output_type": "stream",
          "text": [
            "Epoch 1 - Acc=0.74%, F1=0.8500\n"
          ]
        },
        {
          "metadata": {
            "tags": null
          },
          "name": "stderr",
          "output_type": "stream",
          "text": [
            "Epoch 2/10: 100%|██████████| 163/163 [19:28<00:00,  7.17s/it]\n"
          ]
        },
        {
          "metadata": {
            "tags": null
          },
          "name": "stdout",
          "output_type": "stream",
          "text": [
            "Epoch 2 - Acc=0.74%, F1=0.8525\n"
          ]
        },
        {
          "metadata": {
            "tags": null
          },
          "name": "stderr",
          "output_type": "stream",
          "text": [
            "Epoch 3/10: 100%|██████████| 163/163 [19:13<00:00,  7.08s/it]\n"
          ]
        },
        {
          "metadata": {
            "tags": null
          },
          "name": "stdout",
          "output_type": "stream",
          "text": [
            "Epoch 3 - Acc=0.82%, F1=0.8888\n"
          ]
        },
        {
          "metadata": {
            "tags": null
          },
          "name": "stderr",
          "output_type": "stream",
          "text": [
            "Epoch 4/10: 100%|██████████| 163/163 [17:40<00:00,  6.50s/it]\n"
          ]
        },
        {
          "metadata": {
            "tags": null
          },
          "name": "stdout",
          "output_type": "stream",
          "text": [
            "Epoch 4 - Acc=0.93%, F1=0.9542\n"
          ]
        },
        {
          "metadata": {
            "tags": null
          },
          "name": "stderr",
          "output_type": "stream",
          "text": [
            "Epoch 5/10: 100%|██████████| 163/163 [16:43<00:00,  6.16s/it]\n"
          ]
        },
        {
          "metadata": {
            "tags": null
          },
          "name": "stdout",
          "output_type": "stream",
          "text": [
            "Epoch 5 - Acc=0.94%, F1=0.9618\n"
          ]
        },
        {
          "metadata": {
            "tags": null
          },
          "name": "stderr",
          "output_type": "stream",
          "text": [
            "Epoch 6/10: 100%|██████████| 163/163 [16:36<00:00,  6.11s/it]\n"
          ]
        },
        {
          "metadata": {
            "tags": null
          },
          "name": "stdout",
          "output_type": "stream",
          "text": [
            "Epoch 6 - Acc=0.95%, F1=0.9682\n"
          ]
        },
        {
          "metadata": {
            "tags": null
          },
          "name": "stderr",
          "output_type": "stream",
          "text": [
            "Epoch 7/10: 100%|██████████| 163/163 [16:48<00:00,  6.19s/it]\n"
          ]
        },
        {
          "metadata": {
            "tags": null
          },
          "name": "stdout",
          "output_type": "stream",
          "text": [
            "Epoch 7 - Acc=0.95%, F1=0.9679\n"
          ]
        },
        {
          "metadata": {
            "tags": null
          },
          "name": "stderr",
          "output_type": "stream",
          "text": [
            "Epoch 8/10: 100%|██████████| 163/163 [18:13<00:00,  6.71s/it]\n"
          ]
        },
        {
          "metadata": {
            "tags": null
          },
          "name": "stdout",
          "output_type": "stream",
          "text": [
            "Epoch 8 - Acc=0.95%, F1=0.9687\n"
          ]
        },
        {
          "metadata": {
            "tags": null
          },
          "name": "stderr",
          "output_type": "stream",
          "text": [
            "Epoch 9/10: 100%|██████████| 163/163 [20:34<00:00,  7.57s/it]\n"
          ]
        },
        {
          "metadata": {
            "tags": null
          },
          "name": "stdout",
          "output_type": "stream",
          "text": [
            "Epoch 9 - Acc=0.95%, F1=0.9686\n"
          ]
        },
        {
          "output_type": "stream",
          "name": "stderr",
          "text": [
            "Epoch 10/10: 100%|██████████| 163/163 [22:27<00:00,  8.26s/it]"
          ]
        },
        {
          "output_type": "stream",
          "name": "stdout",
          "text": [
            "Epoch 10 - Acc=0.95%, F1=0.9692\n"
          ]
        },
        {
          "output_type": "stream",
          "name": "stderr",
          "text": [
            "\n"
          ]
        }
      ],
      "source": [
        "import torch.optim as optim\n",
        "\n",
        "model = PneumoniaCNN()\n",
        "criterion = nn.BCELoss()\n",
        "optimizer = optim.Adam(model.parameters(), lr=0.001, weight_decay=1e-4) # Weight decay is optional. But is it? 🤔\n",
        "\n",
        "train(model, train_loader, criterion, optimizer, epochs=10)"
      ]
    },
    {
      "cell_type": "markdown",
      "metadata": {
        "id": "XInpf_2o-Qff"
      },
      "source": [
        "Last step: evaluate your model's performance. Remember, you get **1,000,000** brownie points 🍫 if you beat Adam's **`f1_score:`0.8549**."
      ]
    },
    {
      "cell_type": "code",
      "execution_count": 23,
      "metadata": {
        "id": "sAeAIFf6-Qfg",
        "colab": {
          "base_uri": "https://localhost:8080/"
        },
        "outputId": "9388beb5-31b0-4d69-f3c7-ced739162ac6"
      },
      "outputs": [
        {
          "output_type": "stream",
          "name": "stdout",
          "text": [
            "Final Test Results: Acc=0.75%, F1=0.8296\n"
          ]
        }
      ],
      "source": [
        "test(model, test_loader, criterion)"
      ]
    }
  ],
  "metadata": {
    "colab": {
      "provenance": [],
      "include_colab_link": true
    },
    "kaggle": {
      "accelerator": "none",
      "dataSources": [],
      "dockerImageVersionId": 30839,
      "isGpuEnabled": false,
      "isInternetEnabled": true,
      "language": "python",
      "sourceType": "notebook"
    },
    "kernelspec": {
      "display_name": "Python 3",
      "language": "python",
      "name": "python3"
    },
    "language_info": {
      "codemirror_mode": {
        "name": "ipython",
        "version": 3
      },
      "file_extension": ".py",
      "mimetype": "text/x-python",
      "name": "python",
      "nbconvert_exporter": "python",
      "pygments_lexer": "ipython3",
      "version": "3.11.9"
    }
  },
  "nbformat": 4,
  "nbformat_minor": 0
}